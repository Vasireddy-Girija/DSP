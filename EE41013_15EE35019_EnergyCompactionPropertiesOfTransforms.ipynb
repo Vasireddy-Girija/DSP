{
 "cells": [
  {
   "cell_type": "code",
   "execution_count": 1,
   "metadata": {},
   "outputs": [],
   "source": [
    "import numpy as np\n",
    "import math as m\n",
    "import cmath as c\n",
    "import matplotlib.pyplot as plt\n",
    "%matplotlib inline"
   ]
  },
  {
   "cell_type": "code",
   "execution_count": 2,
   "metadata": {},
   "outputs": [
    {
     "data": {
      "text/plain": [
       "[0, 1, 2, 3, 4, 5, 6]"
      ]
     },
     "execution_count": 2,
     "metadata": {},
     "output_type": "execute_result"
    }
   ],
   "source": [
    "L=[]\n",
    "for i in range(0,7):\n",
    "    L.append(i)\n",
    "L"
   ]
  },
  {
   "cell_type": "markdown",
   "metadata": {},
   "source": [
    "### DFT"
   ]
  },
  {
   "cell_type": "code",
   "execution_count": 3,
   "metadata": {},
   "outputs": [],
   "source": [
    "def DFT_matrix(N):\n",
    "    W=c.exp(((-2*m.pi)/N)*1j)\n",
    "    D=[]\n",
    "    for i in range(N):\n",
    "        d=[]\n",
    "        for j in range(N):\n",
    "            d.append(W**(i*j))\n",
    "        D.append(d)\n",
    "    return D"
   ]
  },
  {
   "cell_type": "code",
   "execution_count": 4,
   "metadata": {},
   "outputs": [],
   "source": [
    "def IDFT_matrix(N):\n",
    "    W1=c.exp(((2*m.pi)/N)*1j)\n",
    "    D1=[]\n",
    "    for i in range(N):\n",
    "        d1=[]\n",
    "        for j in range(N):\n",
    "            d1.append(W1**(i*j))\n",
    "        D1.append(d1)\n",
    "    return D1"
   ]
  },
  {
   "cell_type": "code",
   "execution_count": 5,
   "metadata": {},
   "outputs": [],
   "source": [
    "def DFT(x,D):\n",
    "    X=np.matmul(D,x)\n",
    "    return X"
   ]
  },
  {
   "cell_type": "code",
   "execution_count": 6,
   "metadata": {},
   "outputs": [],
   "source": [
    "def IDFT(X,D1):\n",
    "    x=np.matmul(D1,X)\n",
    "    N=len(X)\n",
    "    x=np.divide(x,N)\n",
    "    return x"
   ]
  },
  {
   "cell_type": "code",
   "execution_count": 7,
   "metadata": {},
   "outputs": [],
   "source": [
    "def X_m1(X,L):\n",
    "    Xm1=[]\n",
    "    N=len(X)\n",
    "    for i in range(N):\n",
    "        if i<=int((N-1-L)/2):\n",
    "            Xm1.append(X[i])\n",
    "        elif i>=int((N+1-L)/2) and i<=int((N-1+L)/2):\n",
    "            Xm1.append(0)\n",
    "        elif i>=int((N+1+L)/2) and i<=N-1:\n",
    "            Xm1.append(X[i])\n",
    "    return Xm1"
   ]
  },
  {
   "cell_type": "markdown",
   "metadata": {},
   "source": [
    "### DCT"
   ]
  },
  {
   "cell_type": "code",
   "execution_count": 8,
   "metadata": {},
   "outputs": [],
   "source": [
    "def DCT_matrix(N):\n",
    "    D1=[]\n",
    "    for k in range(N):\n",
    "        d=[]\n",
    "        for n in range(N):\n",
    "            d.append(np.cos(((m.pi)*k*(2*n+1))/(2*N)))\n",
    "        D1.append(d)\n",
    "    return D1"
   ]
  },
  {
   "cell_type": "code",
   "execution_count": 9,
   "metadata": {},
   "outputs": [],
   "source": [
    "def DCT(x,D1):\n",
    "    X1=np.matmul(D1,x)\n",
    "    X1=np.multiply(X1,2)\n",
    "    return X1"
   ]
  },
  {
   "cell_type": "code",
   "execution_count": 10,
   "metadata": {},
   "outputs": [],
   "source": [
    "def IDCT_matrix(N):\n",
    "    D=[]\n",
    "    for n in range(N):\n",
    "        d=[]\n",
    "        for k in range(N):\n",
    "            d.append(np.cos(((m.pi)*k*(2*n+1))/(2*N)))\n",
    "        D.append(d)\n",
    "    return D"
   ]
  },
  {
   "cell_type": "code",
   "execution_count": 11,
   "metadata": {},
   "outputs": [],
   "source": [
    "def IDCT(D,X1):\n",
    "    X=[]\n",
    "    a=[]\n",
    "    a.append(0.5)\n",
    "    for i in range(N-1):\n",
    "        a.append(1)\n",
    "    for i in range(N):\n",
    "        X.append(X1[i]*a[i])\n",
    "    x=np.matmul(D,X)\n",
    "    x=np.divide(x,N)\n",
    "    return x"
   ]
  },
  {
   "cell_type": "code",
   "execution_count": 12,
   "metadata": {},
   "outputs": [],
   "source": [
    "def X_m2(X,L):\n",
    "    N=len(X)\n",
    "    Xm2=[]\n",
    "    for i in range(N):\n",
    "        if i<=(N-1-L):\n",
    "            Xm2.append(X[i])\n",
    "        else:\n",
    "            Xm2.append(0)\n",
    "    return Xm2"
   ]
  },
  {
   "cell_type": "markdown",
   "metadata": {},
   "source": [
    "### Haar"
   ]
  },
  {
   "cell_type": "code",
   "execution_count": 13,
   "metadata": {},
   "outputs": [],
   "source": [
    "def identity_matrix(n):\n",
    "    I=[]\n",
    "    for i in range(n):\n",
    "        k=[]\n",
    "        for j in range(n):\n",
    "            if i==j:\n",
    "                k.append(1)\n",
    "            else:\n",
    "                k.append(0)\n",
    "        I.append(k)\n",
    "    return I"
   ]
  },
  {
   "cell_type": "code",
   "execution_count": 14,
   "metadata": {},
   "outputs": [],
   "source": [
    "def haar_matrix(H,N):\n",
    "    D=[]\n",
    "    for i in range(N):\n",
    "        d=[]\n",
    "        for j in range(N):\n",
    "            d.append(H[i][j])\n",
    "            d.append(H[i][j])\n",
    "        D.append(d)\n",
    "    I=identity_matrix(N)\n",
    "    N1=N**0.5\n",
    "    D1=[]\n",
    "    for i in range(N):\n",
    "        d=[]\n",
    "        for j in range(N):\n",
    "            if I[i][j]!=0:\n",
    "                d.append(N1*I[i][j])\n",
    "                d.append(-N1*I[i][j])\n",
    "            else:\n",
    "                d.append(0)\n",
    "                d.append(0)\n",
    "        D1.append(d)\n",
    "    D=D+D1\n",
    "    return D"
   ]
  },
  {
   "cell_type": "code",
   "execution_count": 15,
   "metadata": {},
   "outputs": [],
   "source": [
    "def v(N):\n",
    "    i=0\n",
    "    while N!=1:\n",
    "        N=N/2\n",
    "        i=i+1\n",
    "    return i"
   ]
  },
  {
   "cell_type": "code",
   "execution_count": 16,
   "metadata": {},
   "outputs": [],
   "source": [
    "def H_(N):\n",
    "    h=[]\n",
    "    h.append(1)\n",
    "    h.append([[1,1],[1,-1]])\n",
    "    k=v(N)\n",
    "    for i in range(1,k):\n",
    "        D=haar_matrix(h[i],2**i)\n",
    "        h.append(D)\n",
    "    return h[k]"
   ]
  },
  {
   "cell_type": "code",
   "execution_count": 17,
   "metadata": {},
   "outputs": [],
   "source": [
    "def HT(H,x):\n",
    "    X=np.matmul(H,x)\n",
    "    return X"
   ]
  },
  {
   "cell_type": "code",
   "execution_count": 18,
   "metadata": {},
   "outputs": [],
   "source": [
    "def IHT(H,X):\n",
    "    N=len(X)\n",
    "    k=np.array(H)\n",
    "    H1=k.transpose()\n",
    "    x=np.matmul(H1,X)\n",
    "    x=np.divide(x,N)\n",
    "    return x"
   ]
  },
  {
   "cell_type": "code",
   "execution_count": 19,
   "metadata": {},
   "outputs": [],
   "source": [
    "def X_m3(X,L):\n",
    "    N=len(X)\n",
    "    Xm3=[]\n",
    "    for i in range(N):\n",
    "        if i<=(N-1-L):\n",
    "            Xm3.append(X[i])\n",
    "        else:\n",
    "            Xm3.append(0)\n",
    "    return Xm3"
   ]
  },
  {
   "cell_type": "markdown",
   "metadata": {},
   "source": [
    "### error"
   ]
  },
  {
   "cell_type": "code",
   "execution_count": 20,
   "metadata": {},
   "outputs": [],
   "source": [
    "def error(x,xm3):\n",
    "    x=np.array(x)\n",
    "    xm3=np.array(xm3)\n",
    "    E3=np.mean((abs(x-xm3))**2)\n",
    "    return E3"
   ]
  },
  {
   "cell_type": "markdown",
   "metadata": {},
   "source": [
    "### Main"
   ]
  },
  {
   "cell_type": "code",
   "execution_count": 21,
   "metadata": {},
   "outputs": [],
   "source": [
    "N=64\n",
    "E1=[0]*7\n",
    "E2=[0]*7\n",
    "E3=[0]*7\n",
    "D=DFT_matrix(N)\n",
    "D1=IDFT_matrix(N)\n",
    "C=DCT_matrix(N)\n",
    "H=H_(N)\n",
    "Z=50\n",
    "for z in range(Z):\n",
    "    x=np.random.randint(100,size=N)\n",
    "    X1=DFT(x,D)\n",
    "    for i in range(0,7):\n",
    "        k=L[i]\n",
    "        Xm1=X_m1(X1,k)\n",
    "        xm1=IDFT(Xm1,D1)\n",
    "        e=error(x,xm1)\n",
    "        E1[i]=E1[i]+e\n",
    "\n",
    "    X2=DCT(x,C)\n",
    "    C1=IDCT_matrix(N)\n",
    "    for i in range(0,7):\n",
    "        k=L[i]\n",
    "        Xm2=X_m2(X2,k)\n",
    "        xm2=IDCT(C1,Xm2)\n",
    "        e=error(x,xm2)\n",
    "        E2[i]=E2[i]+e\n",
    "\n",
    "    X3=HT(H,x)\n",
    "    for i in range(0,7):\n",
    "        k=L[i]\n",
    "        Xm3=X_m3(X3,k)\n",
    "        xm3=IHT(H,Xm3)\n",
    "        e=error(x,xm3)\n",
    "        E3[i]=E3[i]+e\n",
    "        \n",
    "E1=np.multiply(E1,Z)\n",
    "E2=np.multiply(E2,Z)\n",
    "E3=np.multiply(E3,Z)"
   ]
  },
  {
   "cell_type": "code",
   "execution_count": 22,
   "metadata": {},
   "outputs": [
    {
     "data": {
      "text/plain": [
       "array([4.90065170e-22, 3.08891968e+04, 6.98057318e+04, 1.08722267e+05,\n",
       "       1.37760532e+05, 1.66798797e+05, 2.04624091e+05])"
      ]
     },
     "execution_count": 22,
     "metadata": {},
     "output_type": "execute_result"
    }
   ],
   "source": [
    "E1"
   ]
  },
  {
   "cell_type": "code",
   "execution_count": 23,
   "metadata": {},
   "outputs": [
    {
     "data": {
      "text/plain": [
       "array([1.73970856e-22, 3.21824827e+04, 7.76081012e+04, 1.01578340e+05,\n",
       "       1.31585081e+05, 1.68333812e+05, 2.06283166e+05])"
      ]
     },
     "execution_count": 23,
     "metadata": {},
     "output_type": "execute_result"
    }
   ],
   "source": [
    "E2"
   ]
  },
  {
   "cell_type": "code",
   "execution_count": 24,
   "metadata": {},
   "outputs": [
    {
     "data": {
      "text/plain": [
       "array([3.80375642e-26, 2.75113281e+04, 6.61222656e+04, 1.00376562e+05,\n",
       "       1.34294531e+05, 1.68253125e+05, 1.98600391e+05])"
      ]
     },
     "execution_count": 24,
     "metadata": {},
     "output_type": "execute_result"
    }
   ],
   "source": [
    "E3"
   ]
  },
  {
   "cell_type": "code",
   "execution_count": 25,
   "metadata": {},
   "outputs": [
    {
     "data": {
      "text/plain": [
       "[<matplotlib.lines.Line2D at 0x155a9238c50>]"
      ]
     },
     "execution_count": 25,
     "metadata": {},
     "output_type": "execute_result"
    },
    {
     "data": {
      "image/png": "[encoded data removed]",
      "text/plain": [
       "<Figure size 432x288 with 1 Axes>"
      ]
     },
     "metadata": {},
     "output_type": "display_data"
    }
   ],
   "source": [
    "plt.plot(E1)\n",
    "plt.plot(E2)\n",
    "plt.plot(E3)"
   ]
  },
  {
   "cell_type": "code",
   "execution_count": null,
   "metadata": {},
   "outputs": [],
   "source": []
  }
 ],
 "metadata": {
  "kernelspec": {
   "display_name": "Python 3",
   "language": "python",
   "name": "python3"
  },
  "language_info": {
   "codemirror_mode": {
    "name": "ipython",
    "version": 3
   },
   "file_extension": ".py",
   "mimetype": "text/x-python",
   "name": "python",
   "nbconvert_exporter": "python",
   "pygments_lexer": "ipython3",
   "version": "3.6.5"
  }
 },
 "nbformat": 4,
 "nbformat_minor": 2
}
